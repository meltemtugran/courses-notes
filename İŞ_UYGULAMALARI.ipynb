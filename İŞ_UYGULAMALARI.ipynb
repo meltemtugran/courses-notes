{
  "nbformat": 4,
  "nbformat_minor": 0,
  "metadata": {
    "colab": {
      "name": "İŞ UYGULAMALARI",
      "provenance": [],
      "collapsed_sections": [],
      "authorship_tag": "ABX9TyMgCGoqkYzUJdsCXBXOEeoG",
      "include_colab_link": true
    },
    "kernelspec": {
      "name": "python3",
      "display_name": "Python 3"
    }
  },
  "cells": [
    {
      "cell_type": "markdown",
      "metadata": {
        "id": "view-in-github",
        "colab_type": "text"
      },
      "source": [
        "<a href=\"https://colab.research.google.com/github/meltemtugran/courses-notes/blob/main/%C4%B0%C5%9E_UYGULAMALARI.ipynb\" target=\"_parent\"><img src=\"https://colab.research.google.com/assets/colab-badge.svg\" alt=\"Open In Colab\"/></a>"
      ]
    },
    {
      "cell_type": "markdown",
      "metadata": {
        "id": "7u4joWo05kMy"
      },
      "source": [
        "#FİYAT STRATEJİSİ KARAR DESTEK SİSTEMİ-GÜVEN ARALIKLARI\n",
        "problem: ceo fiyat belirleme kousunda bilimsel bir dayana ve esneklik istiyor\n",
        "dety:satıcı,alıcı,ürün var,alıcılara ne kadar fiyat verirsiniz anketi yapılıyor.optimum fiyat bulunmak isteniyor.\n"
      ]
    },
    {
      "cell_type": "code",
      "metadata": {
        "id": "MtMsPeOflg4S"
      },
      "source": [
        "import numpy as np\n",
        "fiyatlar=np.random.randint(10,110,1000)"
      ],
      "execution_count": null,
      "outputs": []
    },
    {
      "cell_type": "code",
      "metadata": {
        "colab": {
          "base_uri": "https://localhost:8080/"
        },
        "id": "EcEMvc_SFNQL",
        "outputId": "5265d54b-6cef-40d9-9000-a9db5849d205"
      },
      "source": [
        "fiyatlar.mean()"
      ],
      "execution_count": null,
      "outputs": [
        {
          "output_type": "execute_result",
          "data": {
            "text/plain": [
              "58.249"
            ]
          },
          "metadata": {
            "tags": []
          },
          "execution_count": 2
        }
      ]
    },
    {
      "cell_type": "code",
      "metadata": {
        "colab": {
          "base_uri": "https://localhost:8080/"
        },
        "id": "Ps1B41Y8FPCX",
        "outputId": "533e2bc0-80a8-4e62-9126-fe6bd4498373"
      },
      "source": [
        "import statsmodels.stats.api as sms"
      ],
      "execution_count": null,
      "outputs": [
        {
          "output_type": "stream",
          "text": [
            "/usr/local/lib/python3.7/dist-packages/statsmodels/tools/_testing.py:19: FutureWarning: pandas.util.testing is deprecated. Use the functions in the public API at pandas.testing instead.\n",
            "  import pandas.util.testing as tm\n"
          ],
          "name": "stderr"
        }
      ]
    },
    {
      "cell_type": "code",
      "metadata": {
        "colab": {
          "base_uri": "https://localhost:8080/"
        },
        "id": "I7PkvOKMFStt",
        "outputId": "0c6f15a2-f9fa-4f00-d527-3d8b13172417"
      },
      "source": [
        "sms.DescrStatsW(fiyatlar).tconfint_mean()"
      ],
      "execution_count": null,
      "outputs": [
        {
          "output_type": "execute_result",
          "data": {
            "text/plain": [
              "(56.434611942336325, 60.06338805766368)"
            ]
          },
          "metadata": {
            "tags": []
          },
          "execution_count": 9
        }
      ]
    },
    {
      "cell_type": "markdown",
      "metadata": {
        "id": "O33oOEzoLtlr"
      },
      "source": [
        "#REKLAM HARCAMASI OPTİMİZAZONU-BİNOM DAĞILIMI\n",
        "problem:çeşitli mecrlarda reklamlar veriliyor.reklamlrın tıklanama ve geri dönüşüm oranları optimize ediliyor.buna yönelik belirli bir mecrada çeşitli seneryolara göre tıklanma olasıkları hesaplnmaka isteniyor.\n",
        "\n",
        "soru: reklamı 100 kişi gördüğünde 1,5,10 tıklanma olasılığı nedir?"
      ]
    },
    {
      "cell_type": "code",
      "metadata": {
        "id": "MStXZlsAF0NB"
      },
      "source": [
        "from scipy.stats import binom"
      ],
      "execution_count": null,
      "outputs": []
    },
    {
      "cell_type": "code",
      "metadata": {
        "colab": {
          "base_uri": "https://localhost:8080/"
        },
        "id": "ISTcMBL3MxOP",
        "outputId": "acf5bd7e-16b5-42a8-a75f-ba85dfd04e2b"
      },
      "source": [
        "p=0.01\n",
        "n=100\n",
        "rv=binom(n,p)\n",
        "print(rv.pmf(1))\n",
        "print(rv.pmf(5))\n",
        "print(rv.pmf(10))"
      ],
      "execution_count": null,
      "outputs": [
        {
          "output_type": "stream",
          "text": [
            "0.36972963764971983\n",
            "0.0028977871237616114\n",
            "7.006035693977161e-08\n"
          ],
          "name": "stdout"
        }
      ]
    },
    {
      "cell_type": "markdown",
      "metadata": {
        "id": "gBhi--rrNPRI"
      },
      "source": [
        "#İLAN GİRİŞİ HATA OLASILIKLARI HESAPLANMASI-POİSSON DAĞILIMI\n",
        "\n",
        "problem:bir yıl boyunca ölçüm yapılıyor.poisson dağılımı var.lamda 0.1.\n",
        "\n",
        "hiç hata olmamsı , 3 hata olması ve 5 hata olma olasılığı nedir?"
      ]
    },
    {
      "cell_type": "code",
      "metadata": {
        "colab": {
          "base_uri": "https://localhost:8080/"
        },
        "id": "_Dqzy2f5NERg",
        "outputId": "eebfa021-528b-450f-f36c-d250be18b552"
      },
      "source": [
        "from scipy.stats import poisson\n",
        "lamda_=0.1\n",
        "rv=poisson(mu=lamda_)\n",
        "print(rv.pmf(k=0))\n",
        "print(rv.pmf(k=3))\n",
        "print(rv.pmf(k=5))\n"
      ],
      "execution_count": null,
      "outputs": [
        {
          "output_type": "stream",
          "text": [
            "0.9048374180359595\n",
            "0.00015080623633932676\n",
            "7.54031181696634e-08\n"
          ],
          "name": "stdout"
        }
      ]
    },
    {
      "cell_type": "markdown",
      "metadata": {
        "id": "V4kugU23QKe_"
      },
      "source": [
        "#ÜRÜN SATIŞ OLASILIKLARININ HESAPLANMASI-NORMAL DAĞILIM\n",
        "\n",
        "AYLIK ORTALAMA SATIŞ 80K,STANDART SAPMA 5K,90K DAN FAZLA SATIŞ YAPMA OLASILIĞI KAÇ"
      ]
    },
    {
      "cell_type": "code",
      "metadata": {
        "colab": {
          "base_uri": "https://localhost:8080/"
        },
        "id": "S1iMQvRWOZNA",
        "outputId": "1545aa21-ce0c-4600-cf4b-95e9fd3a7131"
      },
      "source": [
        "from scipy.stats import norm\n",
        "#90 dan fazla olması\n",
        "1-norm.cdf(90,80,5)"
      ],
      "execution_count": null,
      "outputs": [
        {
          "output_type": "execute_result",
          "data": {
            "text/plain": [
              "0.02275013194817921"
            ]
          },
          "metadata": {
            "tags": []
          },
          "execution_count": 15
        }
      ]
    },
    {
      "cell_type": "code",
      "metadata": {
        "colab": {
          "base_uri": "https://localhost:8080/"
        },
        "id": "S9C3N9AqSFtv",
        "outputId": "91957b3b-30ca-4c26-d0b0-e965979a64f6"
      },
      "source": [
        "#70 dan fazla olması\n",
        "1-norm.cdf(70,80,5)\n"
      ],
      "execution_count": null,
      "outputs": [
        {
          "output_type": "execute_result",
          "data": {
            "text/plain": [
              "0.9772498680518208"
            ]
          },
          "metadata": {
            "tags": []
          },
          "execution_count": 16
        }
      ]
    },
    {
      "cell_type": "code",
      "metadata": {
        "colab": {
          "base_uri": "https://localhost:8080/"
        },
        "id": "mR6n7Hl1a4mX",
        "outputId": "afbcae02-7cb5-43d9-f544-a03212dc8b83"
      },
      "source": [
        "#73 dan az olması\n",
        "norm.cdf(73,80,5)"
      ],
      "execution_count": null,
      "outputs": [
        {
          "output_type": "execute_result",
          "data": {
            "text/plain": [
              "0.08075665923377107"
            ]
          },
          "metadata": {
            "tags": []
          },
          "execution_count": 19
        }
      ]
    },
    {
      "cell_type": "code",
      "metadata": {
        "colab": {
          "base_uri": "https://localhost:8080/"
        },
        "id": "3LAfrTorbBVX",
        "outputId": "eeab09ac-37ae-4d2c-d041-494ea4dd2107"
      },
      "source": [
        "#85 ile 90 arasında olması\n",
        "norm.cdf(90,80,5) - norm.cdf(85,80,5)"
      ],
      "execution_count": null,
      "outputs": [
        {
          "output_type": "execute_result",
          "data": {
            "text/plain": [
              "0.13590512198327787"
            ]
          },
          "metadata": {
            "tags": []
          },
          "execution_count": 23
        }
      ]
    },
    {
      "cell_type": "markdown",
      "metadata": {
        "id": "74aWfVL3g_IQ"
      },
      "source": [
        "#ÜRÜN SATIN ALMA ADIM OPTİMİZASYONU\n",
        "\n",
        "SEPETE ÜRÜN EKLEDİKTEN SONRA ÖDEME EKRANINDA 5 ADIM VAR.HER ADIM 20 SN. 4. ADIM SORGULANIYOR.TEST ETMEK İÇİN 100 ÖRNEK ALINIYOR.ÖRNEK SS 5 SN. ÖRNEK ORTALAMA 19"
      ]
    },
    {
      "cell_type": "markdown",
      "metadata": {
        "id": "Vh5fndvkh1mD"
      },
      "source": [
        "ADIM1:HİPOTEZLERİN KURULMASI VE YÇNLERİN BELİRLENMESİ\n",
        "\n",
        "ADIM2:ANLAMLILIK DÜZEYİNİNİ BELİRLENMESİ VE TABLO DEĞERLERİNİN BELİRLENMESİ\n",
        "\n",
        "ADIM3:TST İSTATİSTİĞİNİN BELİRLENMESİ VE HESAPLANMASI\n",
        "\n",
        "ADIM4:ZTABLO VE ZHESAP KARŞILAŞTIRILMASI  ZH<ZT İSE H0 REDDEDİLİR\n",
        "\n",
        "ADIM5: YORUM:"
      ]
    },
    {
      "cell_type": "markdown",
      "metadata": {
        "id": "VANpJX9mjClE"
      },
      "source": [
        "#WEB SİTESİNDE GEÇİRİLEN SÜRENİN TEST- TEK ÖRNEKLEM T TESTİ\n",
        "problem:web sitede geçirilen ortalama süre gerçekten 170 saniye mi?"
      ]
    },
    {
      "cell_type": "code",
      "metadata": {
        "id": "T0YndTX4bQGK"
      },
      "source": [
        "import numpy as np \n",
        "import pandas as pd"
      ],
      "execution_count": null,
      "outputs": []
    },
    {
      "cell_type": "code",
      "metadata": {
        "id": "i900dJ-cCyXZ"
      },
      "source": [
        "olcumler= np.array([14,15,585,54,88,5,282,785,426,536,48,59,22,45,745,865,123,256,147,369,52,123,45,65,32,123,89,996,456,489,421,476,11,114,115,112,156,123,159,164,14,74,56,357,25,357,369,321,258,654,123,114,225,12,147,158,114])"
      ],
      "execution_count": null,
      "outputs": []
    },
    {
      "cell_type": "code",
      "metadata": {
        "colab": {
          "base_uri": "https://localhost:8080/"
        },
        "id": "wno0A2sLDKX3",
        "outputId": "dd001575-ea8e-4376-f00f-c2010d4c259f"
      },
      "source": [
        "olcumler[0:10]"
      ],
      "execution_count": null,
      "outputs": [
        {
          "output_type": "execute_result",
          "data": {
            "text/plain": [
              "array([ 14,  15, 585,  54,  88,   5, 282, 785, 426, 536])"
            ]
          },
          "metadata": {
            "tags": []
          },
          "execution_count": 10
        }
      ]
    },
    {
      "cell_type": "code",
      "metadata": {
        "id": "6Cn15nh1DO6K"
      },
      "source": [
        "import scipy.stats as stats"
      ],
      "execution_count": null,
      "outputs": []
    },
    {
      "cell_type": "code",
      "metadata": {
        "colab": {
          "base_uri": "https://localhost:8080/"
        },
        "id": "5qg2ykXEDSNi",
        "outputId": "f6f94cfe-de6f-4f14-808a-73706e915965"
      },
      "source": [
        "stats.describe(olcumler)"
      ],
      "execution_count": null,
      "outputs": [
        {
          "output_type": "execute_result",
          "data": {
            "text/plain": [
              "DescribeResult(nobs=57, minmax=(5, 996), mean=231.01754385964912, variance=56850.767543859656, skewness=1.4133141550259458, kurtosis=1.3274775268413004)"
            ]
          },
          "metadata": {
            "tags": []
          },
          "execution_count": 12
        }
      ]
    },
    {
      "cell_type": "code",
      "metadata": {
        "colab": {
          "base_uri": "https://localhost:8080/",
          "height": 264
        },
        "id": "I8nZC8nUDWOa",
        "outputId": "0e9f7bce-c8df-4b0e-a9bf-f0a4759cbfa6"
      },
      "source": [
        "#varsayımlar\n",
        "#normallik varsayımı\n",
        "#histogram grafiği:\n",
        "pd.DataFrame(olcumler).plot.hist();"
      ],
      "execution_count": null,
      "outputs": [
        {
          "output_type": "display_data",
          "data": {
            "image/png": "[encoded data removed]",
            "text/plain": [
              "<Figure size 432x288 with 1 Axes>"
            ]
          },
          "metadata": {
            "tags": [],
            "needs_background": "light"
          }
        }
      ]
    },
    {
      "cell_type": "code",
      "metadata": {
        "colab": {
          "base_uri": "https://localhost:8080/",
          "height": 294
        },
        "id": "_kJKD8z3D90B",
        "outputId": "ab5ae495-9ab5-41cc-dbcc-1e17efe475c3"
      },
      "source": [
        "#qqplot grfaiği\n",
        "import pylab\n",
        "stats.probplot(olcumler, dist=\"norm\", plot=pylab)\n",
        "pylab.show()\n"
      ],
      "execution_count": null,
      "outputs": [
        {
          "output_type": "display_data",
          "data": {
            "image/png": "[encoded data removed]",
            "text/plain": [
              "<Figure size 432x288 with 1 Axes>"
            ]
          },
          "metadata": {
            "tags": [],
            "needs_background": "light"
          }
        }
      ]
    },
    {
      "cell_type": "code",
      "metadata": {
        "id": "vb8wzygBEnnI"
      },
      "source": [
        "#shapiro wilks testi\n",
        "#h0: örnek dağılı ile teorik normla dağılım arsında anlamlılık yok\n",
        "from scipy.stats import shapiro"
      ],
      "execution_count": null,
      "outputs": []
    },
    {
      "cell_type": "code",
      "metadata": {
        "colab": {
          "base_uri": "https://localhost:8080/"
        },
        "id": "bfaFZTIME4xa",
        "outputId": "6a9166ee-0f49-4bfc-ecb6-64a1a05b89cb"
      },
      "source": [
        "shapiro(olcumler)"
      ],
      "execution_count": null,
      "outputs": [
        {
          "output_type": "execute_result",
          "data": {
            "text/plain": [
              "(0.8219498991966248, 8.337145231962495e-07)"
            ]
          },
          "metadata": {
            "tags": []
          },
          "execution_count": 22
        }
      ]
    },
    {
      "cell_type": "code",
      "metadata": {
        "colab": {
          "base_uri": "https://localhost:8080/"
        },
        "id": "518okAjNFSqg",
        "outputId": "84f5fdd0-97b8-4d41-98a9-b97cf418a4c1"
      },
      "source": [
        "#t örneklem testi uygulaması :\n",
        "stats.ttest_1samp(olcumler,popmean=170)\n",
        "\n"
      ],
      "execution_count": null,
      "outputs": [
        {
          "output_type": "execute_result",
          "data": {
            "text/plain": [
              "Ttest_1sampResult(statistic=1.9320750114667218, pvalue=0.058415225985620024)"
            ]
          },
          "metadata": {
            "tags": []
          },
          "execution_count": 24
        }
      ]
    },
    {
      "cell_type": "code",
      "metadata": {
        "id": "ZfDIxwAFFiqS"
      },
      "source": [
        "#h0: sitede geçirilen süre 170\n",
        "#h1: \"   \"     değildir.\n",
        "#p-value değeri 0.05 den büyük olduğu için h0 değeri red edilir"
      ],
      "execution_count": null,
      "outputs": []
    },
    {
      "cell_type": "markdown",
      "metadata": {
        "id": "l-6OAQvZGeaY"
      },
      "source": [
        "#Nonparametrik tek örneklem testi:"
      ]
    },
    {
      "cell_type": "code",
      "metadata": {
        "id": "ZbiJW0UaGjba"
      },
      "source": [
        "from statsmodels.stats.descriptivestats import sign_test"
      ],
      "execution_count": null,
      "outputs": []
    },
    {
      "cell_type": "code",
      "metadata": {
        "colab": {
          "base_uri": "https://localhost:8080/"
        },
        "id": "zsL-XstiGzsj",
        "outputId": "78b7681f-e3d2-4028-809c-6b4283661a07"
      },
      "source": [
        "sign_test(olcumler,170)"
      ],
      "execution_count": null,
      "outputs": [
        {
          "output_type": "execute_result",
          "data": {
            "text/plain": [
              "(-7.5, 0.06273668035582843)"
            ]
          },
          "metadata": {
            "tags": []
          },
          "execution_count": 29
        }
      ]
    },
    {
      "cell_type": "markdown",
      "metadata": {
        "id": "sLvb36nuKpQA"
      },
      "source": [
        "#DÖNÜŞÜM ORAN TESTİ\n",
        "PROBLEM :reklam verilmiş.yazılım tarafından 0.125 dönüşüm oranı var.kontrol edilmek isteniyor."
      ]
    },
    {
      "cell_type": "code",
      "metadata": {
        "id": "6qGNeU0RG3Oq"
      },
      "source": [
        ""
      ],
      "execution_count": null,
      "outputs": []
    }
  ]
}